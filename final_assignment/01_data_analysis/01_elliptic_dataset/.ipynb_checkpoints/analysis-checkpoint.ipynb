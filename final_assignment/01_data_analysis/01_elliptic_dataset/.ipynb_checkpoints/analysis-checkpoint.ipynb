{
 "cells": [
  {
   "cell_type": "code",
   "execution_count": 12,
   "id": "saved-jewel",
   "metadata": {},
   "outputs": [],
   "source": [
    "import sys\n",
    "import os\n",
    "import zipfile\n",
    "\n",
    "import gdown\n",
    "import pandas as pd"
   ]
  },
  {
   "cell_type": "code",
   "execution_count": 9,
   "id": "paperback-introduction",
   "metadata": {},
   "outputs": [
    {
     "name": "stderr",
     "output_type": "stream",
     "text": [
      "Downloading...\n",
      "From: https://drive.google.com/uc?id=1N58mGegfUs9hH3f0jVVxh1Gqjnlugf04\n",
      "To: /home/hewerton/projects/CDadosSeg/T2/final_assignment/01_data_analysis/01_elliptic_dataset/elliptic_dataset_filtered.zip\n",
      "33.3MB [00:05, 5.63MB/s]\n"
     ]
    },
    {
     "name": "stdout",
     "output_type": "stream",
     "text": [
      "CPU times: user 14.4 s, sys: 9.44 s, total: 23.8 s\n",
      "Wall time: 30.7 s\n"
     ]
    }
   ],
   "source": [
    "%%time\n",
    "\n",
    "\n",
    "url = 'https://drive.google.com/uc?id=1N58mGegfUs9hH3f0jVVxh1Gqjnlugf04'\n",
    "output = 'elliptic_dataset_filtered.zip'\n",
    "dir = 'dataset'\n",
    "\n",
    "gdown.download(url, output, quiet=False)\n",
    "\n",
    "os.makedirs(dir, exist_ok=True)\n",
    "with zipfile.ZipFile(output) as f:\n",
    "  f.extractall(dir)\n",
    "\n",
    "os.remove(output)"
   ]
  },
  {
   "cell_type": "code",
   "execution_count": 13,
   "id": "informed-activation",
   "metadata": {},
   "outputs": [],
   "source": [
    "def load_dataset():\n",
    "  txs_features = pd.read_csv('dataset/features.csv')\n",
    "  txs_classes = pd.read_csv('dataset/classes.csv')\n",
    "\n",
    "#   X = txs_features.values\n",
    "#   y = txs_classes.where(txs_classes['class'] == 1, other=0)\n",
    "#   y = y['class'].values\n",
    "\n",
    "  return txs_features, txs_classes\n",
    "\n",
    "X, y = load_dataset()"
   ]
  },
  {
   "cell_type": "code",
   "execution_count": 14,
   "id": "mental-dispute",
   "metadata": {},
   "outputs": [
    {
     "name": "stdout",
     "output_type": "stream",
     "text": [
      "Features shape: (46564, 165)\n",
      "Labes shape: (46564,)\n"
     ]
    }
   ],
   "source": [
    "# Features shape\n",
    "print('Features shape:', X.shape)\n",
    "\n",
    "# Labels shape\n",
    "print('Labes shape:', y.shape)"
   ]
  },
  {
   "cell_type": "code",
   "execution_count": 15,
   "id": "atomic-cycling",
   "metadata": {},
   "outputs": [
    {
     "name": "stdout",
     "output_type": "stream",
     "text": [
      "Class: 0, Count: 42019, Percentage: 90.239\n",
      "Class: 1, Count: 4545, Percentage: 9.761\n"
     ]
    }
   ],
   "source": [
    "# Calculating class distribution\n",
    "from collections import Counter\n",
    "counter = Counter(y)\n",
    "for cls, count in counter.items():\n",
    "  per = count * 100.0 / len(y)\n",
    "  print('Class: {:d}, Count: {:d}, Percentage: {:.3f}'.format(cls, count, per))"
   ]
  },
  {
   "cell_type": "code",
   "execution_count": 21,
   "id": "anticipated-marketing",
   "metadata": {},
   "outputs": [
    {
     "ename": "AttributeError",
     "evalue": "'numpy.ndarray' object has no attribute 'head'",
     "output_type": "error",
     "traceback": [
      "\u001b[0;31m---------------------------------------------------------------------------\u001b[0m",
      "\u001b[0;31mAttributeError\u001b[0m                            Traceback (most recent call last)",
      "\u001b[0;32m<ipython-input-21-ae5cd47bda90>\u001b[0m in \u001b[0;36m<module>\u001b[0;34m\u001b[0m\n\u001b[0;32m----> 1\u001b[0;31m \u001b[0mX\u001b[0m\u001b[0;34m.\u001b[0m\u001b[0mhead\u001b[0m\u001b[0;34m(\u001b[0m\u001b[0;34m)\u001b[0m\u001b[0;34m\u001b[0m\u001b[0;34m\u001b[0m\u001b[0m\n\u001b[0m",
      "\u001b[0;31mAttributeError\u001b[0m: 'numpy.ndarray' object has no attribute 'head'"
     ]
    }
   ],
   "source": []
  },
  {
   "cell_type": "code",
   "execution_count": null,
   "id": "swedish-latest",
   "metadata": {},
   "outputs": [],
   "source": []
  }
 ],
 "metadata": {
  "kernelspec": {
   "display_name": "Python 3",
   "language": "python",
   "name": "python3"
  },
  "language_info": {
   "codemirror_mode": {
    "name": "ipython",
    "version": 3
   },
   "file_extension": ".py",
   "mimetype": "text/x-python",
   "name": "python",
   "nbconvert_exporter": "python",
   "pygments_lexer": "ipython3",
   "version": "3.9.1"
  }
 },
 "nbformat": 4,
 "nbformat_minor": 5
}
